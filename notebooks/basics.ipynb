{
  "nbformat": 4,
  "nbformat_minor": 0,
  "metadata": {
    "colab": {
      "provenance": [],
      "authorship_tag": "ABX9TyPUU9QsCc2N7yewO2/GQegj",
      "include_colab_link": true
    },
    "kernelspec": {
      "name": "python3",
      "display_name": "Python 3"
    },
    "language_info": {
      "name": "python"
    }
  },
  "cells": [
    {
      "cell_type": "markdown",
      "metadata": {
        "id": "view-in-github",
        "colab_type": "text"
      },
      "source": [
        "<a href=\"https://colab.research.google.com/github/shreya0641/ArtificialNeuralNetworks-Lab/blob/main/notebooks/basics.ipynb\" target=\"_parent\"><img src=\"https://colab.research.google.com/assets/colab-badge.svg\" alt=\"Open In Colab\"/></a>"
      ]
    },
    {
      "cell_type": "code",
      "execution_count": null,
      "metadata": {
        "colab": {
          "base_uri": "https://localhost:8080/"
        },
        "id": "1st6jDM4foue",
        "outputId": "768cb6bc-eb07-4592-cf4e-e1398a516ac8"
      },
      "outputs": [
        {
          "output_type": "stream",
          "name": "stdout",
          "text": [
            "enter the number :5\n",
            "the number is odd\n"
          ]
        }
      ],
      "source": [
        "num=int(input(\"enter the number :\"))\n",
        "if(num/2==0):\n",
        "         print('the number is even' )\n",
        "else:\n",
        "        print('the number is odd')"
      ]
    },
    {
      "cell_type": "code",
      "source": [
        "num=int(input(\"enter the number :\"))\n",
        "factorial = 1\n",
        "if num < 0:\n",
        "   print(\"factorial does not exist for negative numbers\")\n",
        "elif num == 0:\n",
        "   print(\"The factorial of 0 is 1\")\n",
        "else:\n",
        "   for i in range(1,num + 1):\n",
        "       factorial = factorial*i\n",
        "   print(\"The factorial of\",num,\"is\",factorial)"
      ],
      "metadata": {
        "colab": {
          "base_uri": "https://localhost:8080/"
        },
        "id": "kZHKmp8Ig9mg",
        "outputId": "56881ad4-6011-4205-c5ee-24c80f928e0f"
      },
      "execution_count": null,
      "outputs": [
        {
          "output_type": "stream",
          "name": "stdout",
          "text": [
            "enter the number :5\n",
            "The factorial of 5 is 120\n"
          ]
        }
      ]
    },
    {
      "cell_type": "code",
      "source": [
        "string=str(input(\"enter the string :\"))\n",
        "rev_str =reversed(string)\n",
        "if list(string) == list(rev_str):\n",
        "   print(\"The string is a palindrome.\")\n",
        "else:\n",
        "   print(\"The string is not a palindrome.\")\n"
      ],
      "metadata": {
        "colab": {
          "base_uri": "https://localhost:8080/"
        },
        "id": "fkXpAjDRieQH",
        "outputId": "77705ee7-80bf-4501-d5d9-dd9c5fb20b77"
      },
      "execution_count": null,
      "outputs": [
        {
          "output_type": "stream",
          "name": "stdout",
          "text": [
            "enter the string :shreya\n",
            "The string is not a palindrome.\n"
          ]
        }
      ]
    },
    {
      "cell_type": "code",
      "source": [
        "import calendar\n",
        "year=int(input(\"enter the year :\"))\n",
        "month=int(input(\"enter the month :\"))\n",
        "print(calendar.month(year,month))"
      ],
      "metadata": {
        "colab": {
          "base_uri": "https://localhost:8080/"
        },
        "id": "5E_r7dhMlLIg",
        "outputId": "e28c1ae3-e872-4291-a729-a5fcce41accc"
      },
      "execution_count": null,
      "outputs": [
        {
          "output_type": "stream",
          "name": "stdout",
          "text": [
            "enter the year :2024\n",
            "enter the month :8\n",
            "    August 2024\n",
            "Mo Tu We Th Fr Sa Su\n",
            "          1  2  3  4\n",
            " 5  6  7  8  9 10 11\n",
            "12 13 14 15 16 17 18\n",
            "19 20 21 22 23 24 25\n",
            "26 27 28 29 30 31\n",
            "\n"
          ]
        }
      ]
    },
    {
      "cell_type": "code",
      "source": [
        "\n",
        "\n"
      ],
      "metadata": {
        "id": "VKCX3VJBht6_"
      },
      "execution_count": null,
      "outputs": []
    }
  ]
}
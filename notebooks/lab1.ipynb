{
  "nbformat": 4,
  "nbformat_minor": 0,
  "metadata": {
    "colab": {
      "provenance": [],
      "authorship_tag": "ABX9TyNc0Ue0uzRlWadqsNXHuADK",
      "include_colab_link": true
    },
    "kernelspec": {
      "name": "python3",
      "display_name": "Python 3"
    },
    "language_info": {
      "name": "python"
    }
  },
  "cells": [
    {
      "cell_type": "markdown",
      "metadata": {
        "id": "view-in-github",
        "colab_type": "text"
      },
      "source": [
        "<a href=\"https://colab.research.google.com/github/shreya0641/ArtificialNeuralNetworks-Lab/blob/main/notebooks/lab1.ipynb\" target=\"_parent\"><img src=\"https://colab.research.google.com/assets/colab-badge.svg\" alt=\"Open In Colab\"/></a>"
      ]
    },
    {
      "cell_type": "code",
      "execution_count": null,
      "metadata": {
        "id": "SXRZvrBieVyO"
      },
      "outputs": [],
      "source": []
    },
    {
      "cell_type": "code",
      "source": [],
      "metadata": {
        "id": "u9q7pPqXeZTx"
      },
      "execution_count": null,
      "outputs": []
    },
    {
      "cell_type": "code",
      "source": [
        "import numpy as np\n",
        "import tensorflow as tf\n",
        "from tensorflow.keras.models import Sequential\n",
        "from tensorflow.keras.layers import Dense\n",
        "from tensorflow.keras.optimizers import Adam\n",
        "\n",
        "x=np.array([[0,0,0],\n",
        "             [0,0,1],\n",
        "              [0,1,0],\n",
        "               [0,1,1],\n",
        "                [1,0,0],\n",
        "                 [1,0,1],\n",
        "                  [1,1,0],\n",
        "                   [1,1,1]])\n",
        "y=np.array([[0],\n",
        "            [0],\n",
        "            [0],\n",
        "            [0],\n",
        "            [0],\n",
        "            [0],\n",
        "            [0],\n",
        "            [1]]\n",
        "           )\n",
        "model = Sequential(Dense(1,input_dim=3, activation='sigmoid'))\n",
        "model.compile(optimizer=Adam(learning_rate=0.1), loss='binary_crossentropy', metrics=['accuracy'])\n",
        "model.fit(x, y, epochs=100, verbose=0)\n",
        "\n",
        "for i in x:\n",
        " prediction=model.predict(np.array([i]))\n",
        " print(f\"input:{i} - prediction: {int(round(prediction.flatten()[0]))}\")\n"
      ],
      "metadata": {
        "colab": {
          "base_uri": "https://localhost:8080/"
        },
        "id": "kGCT-N-weZVb",
        "outputId": "30743984-526b-41ca-9ca3-898c5ac1215b"
      },
      "execution_count": null,
      "outputs": [
        {
          "output_type": "stream",
          "name": "stdout",
          "text": [
            "1/1 [==============================] - 0s 79ms/step\n",
            "input:[0 0 0] - prediction: 0\n",
            "1/1 [==============================] - 0s 26ms/step\n",
            "input:[0 0 1] - prediction: 0\n",
            "1/1 [==============================] - 0s 21ms/step\n",
            "input:[0 1 0] - prediction: 0\n",
            "1/1 [==============================] - 0s 20ms/step\n",
            "input:[0 1 1] - prediction: 0\n",
            "1/1 [==============================] - 0s 21ms/step\n",
            "input:[1 0 0] - prediction: 0\n",
            "1/1 [==============================] - 0s 23ms/step\n",
            "input:[1 0 1] - prediction: 0\n",
            "1/1 [==============================] - 0s 23ms/step\n",
            "input:[1 1 0] - prediction: 0\n",
            "1/1 [==============================] - 0s 23ms/step\n",
            "input:[1 1 1] - prediction: 1\n"
          ]
        }
      ]
    },
    {
      "cell_type": "code",
      "source": [
        "import numpy as np\n",
        "import tensorflow as tf\n",
        "from tensorflow.keras.models import Sequential\n",
        "from tensorflow.keras.layers import Dense\n",
        "from tensorflow.keras.optimizers import Adam\n",
        "\n",
        "x=np.array([[0,0,0],\n",
        "             [0,0,1],\n",
        "              [0,1,0],\n",
        "               [0,1,1],\n",
        "                [1,0,0],\n",
        "                 [1,0,1],\n",
        "                  [1,1,0],\n",
        "                   [1,1,1]])\n",
        "y=np.array([[0],\n",
        "            [1],\n",
        "            [1],\n",
        "            [1],\n",
        "            [1],\n",
        "            [1],\n",
        "            [1],\n",
        "            [1]]\n",
        "           )\n",
        "model = Sequential(Dense(1,input_dim=3, activation='sigmoid'))\n",
        "model.compile(optimizer=Adam(learning_rate=0.1), loss='binary_crossentropy', metrics=['accuracy'])\n",
        "model.fit(x, y, epochs=100, verbose=0)\n",
        "\n",
        "for i in x:\n",
        " prediction=model.predict(np.array([i]))\n",
        " print(f\"input:{i} - prediction: {int(round(prediction.flatten()[0]))}\")"
      ],
      "metadata": {
        "colab": {
          "base_uri": "https://localhost:8080/"
        },
        "id": "03p1-rNIl9mS",
        "outputId": "3c57cb21-ecf4-40f9-d65d-bd23034cff18"
      },
      "execution_count": null,
      "outputs": [
        {
          "output_type": "stream",
          "name": "stdout",
          "text": [
            "1/1 [==============================] - 0s 52ms/step\n",
            "input:[0 0 0] - prediction: 0\n",
            "1/1 [==============================] - 0s 24ms/step\n",
            "input:[0 0 1] - prediction: 1\n",
            "1/1 [==============================] - 0s 26ms/step\n",
            "input:[0 1 0] - prediction: 1\n",
            "1/1 [==============================] - 0s 20ms/step\n",
            "input:[0 1 1] - prediction: 1\n",
            "1/1 [==============================] - 0s 23ms/step\n",
            "input:[1 0 0] - prediction: 1\n",
            "1/1 [==============================] - 0s 23ms/step\n",
            "input:[1 0 1] - prediction: 1\n",
            "1/1 [==============================] - 0s 20ms/step\n",
            "input:[1 1 0] - prediction: 1\n",
            "1/1 [==============================] - 0s 33ms/step\n",
            "input:[1 1 1] - prediction: 1\n"
          ]
        }
      ]
    },
    {
      "cell_type": "code",
      "source": [
        "import numpy as np\n",
        "import tensorflow as tf\n",
        "from tensorflow.keras.models import Sequential\n",
        "from tensorflow.keras.layers import Dense\n",
        "from tensorflow.keras.optimizers import Adam\n",
        "\n",
        "x=np.array[[0,0,0]]\n"
      ],
      "metadata": {
        "id": "Ozmxl2Z-oAer"
      },
      "execution_count": null,
      "outputs": []
    }
  ]
}